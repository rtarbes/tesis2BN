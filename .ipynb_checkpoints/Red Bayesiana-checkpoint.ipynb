{
 "cells": [
  {
   "cell_type": "markdown",
   "id": "7b831a7f",
   "metadata": {},
   "source": [
    "### Importación de todas la librerias utilizadas."
   ]
  },
  {
   "cell_type": "code",
   "execution_count": 1,
   "id": "a83fccee",
   "metadata": {},
   "outputs": [
    {
     "ename": "SyntaxError",
     "evalue": "EOL while scanning string literal (<ipython-input-1-810fb91a58f1>, line 46)",
     "output_type": "error",
     "traceback": [
      "\u001b[1;36m  File \u001b[1;32m\"<ipython-input-1-810fb91a58f1>\"\u001b[1;36m, line \u001b[1;32m46\u001b[0m\n\u001b[1;33m    scorePython = 'k2\u001b[0m\n\u001b[1;37m                     ^\u001b[0m\n\u001b[1;31mSyntaxError\u001b[0m\u001b[1;31m:\u001b[0m EOL while scanning string literal\n"
     ]
    }
   ],
   "source": [
    "# Libreria para el manejo de excepciones en Python\n",
    "import sys\n",
    "\n",
    "#Libreria para el manejo de datos\n",
    "import pandas as pd\n",
    "\n",
    "# Librería propietaria utilitaria\n",
    "import BayesLibUtils as blU\n",
    "\n",
    "# Librería que contiene los modelos Bayesianos \n",
    "import ModelosLib as modelos\n",
    "\n",
    "# Libreria para discretizar variables\n",
    "from sklearn.preprocessing import KBinsDiscretizer\n",
    "\n",
    "#Flag que permite visualizar o no las salidas de cada operación\n",
    "outInfo = False\n",
    "\n",
    "# Permite elegir con que modelo implementado realizar la Red Bayesiana\n",
    "# \"Python\" == 0\n",
    "# \"R\" == 1\n",
    "flagModelo = 0\n",
    "\n",
    "#Este flag solo está diseñado para operar cuando el valor \"flagModelo == 1\"\n",
    "#True = permite usar el modelo con todas las variables discretas\n",
    "#False = permite usar el modelo con variables mixtas, es decir, discretas y continuas\n",
    "discreta = False \n",
    "\n",
    "#Este flag solo está diseñado para operar cuando el valor \"flagModelo == 1\"\n",
    "#Permite indicar al aprendizaje de Estructura de \"R\" que algoritmo de puntuación utilizar\n",
    "# Algoritmos de puntuación disponibles:\n",
    "#   1. score = \"aic\"       -> Solo para variables discretas, es decir, cuando flag \"discreta = True\"\n",
    "#   2. score = \"bic\"       -> Solo para variables discretas, es decir, cuando flag \"discreta = True\"\n",
    "#   3. score = \"loglik\"    -> Solo para variables discretas, es decir, cuando flag \"discreta = True\"\n",
    "#   4. score = \"aic-cg\"    -> Solo para variables mixtas, es decir, cuando flag \"discreta = False\"\n",
    "#   5. score = \"bic-cg\"    -> Solo para variables mixtas, es decir, cuando flag \"discreta = False\"\n",
    "#   6. score = \"loglik-cg\" -> Solo para variables mixtas, es decir, cuando flag \"discreta = False\"\n",
    "scoreR = \"aic-cg\"\n",
    "\n",
    "#Este flag solo está diseñado para operar cuando el valor \"flagModelo == 0\"\n",
    "#Permite indicar al aprendizaje de Estructura de \"Python que algoritmo de puntuación utilizar\n",
    "# Algoritmos de puntuación disponibles:\n",
    "#   1. score = \"bic\"  -> Bayesian Information Criterion (Tambien llamado MDL)\n",
    "#   2. score = \"k2\"   -> \n",
    "#   3. score = \"bdeu\" -> (DB) Bayesian Dirichlet, (e) for likelihood-equivalence, (u) for uniform joint distibution\n",
    "scorePython = 'k2'\n",
    "\n",
    "#Este flag permite usar la base de datos balanceada o no \n",
    "#balanceado == True  -> usar datos balanceados\n",
    "#balanceado == False -> usar datos desbalanceados\n",
    "balanceado = False\n",
    "\n",
    "#Este flag permite usar la selección de variables\n",
    "#seleccionVariables > 0  -> Hace uso de la selección de variables\n",
    "#La configuración permitida son valores multiplos de 5 partiendo en 5 y terminando en 20\n",
    "seleccionVariables = 0\n",
    "\n",
    "# variable que identifica que variable del modelo será usada como clase a analizar.\n",
    "varClase = 'estado'"
   ]
  },
  {
   "cell_type": "markdown",
   "id": "d5bf0d3d",
   "metadata": {},
   "source": [
    "### Validación de parámetros para el funcionamiento del modelo"
   ]
  },
  {
   "cell_type": "code",
   "execution_count": null,
   "id": "8ee5eb0f",
   "metadata": {},
   "outputs": [],
   "source": [
    "if flagModelo == 1:\n",
    "    print(\"Validando parámetros para ejecución de modelo en R\")\n",
    "    if (discreta == True) & ((scoreR == \"aic\") | (scoreR == \"bic\") | (scoreR == \"loglik\")):\n",
    "        print(\"Parámetros del modelo OK\")\n",
    "    elif (discreta == False) & ((scoreR == \"aic-cg\") | (scoreR == \"bic-cg\") | (scoreR == \"loglik-cg\")):\n",
    "        print(\"Parámetros del modelo OK\")\n",
    "    else:\n",
    "        sys.exit(\"Parámetros del modelo incorrectos, corrija el problema y vuelva a ejecutar\")\n",
    "else:\n",
    "    print(\"Validando parámetros para ejecución de modelo en Python\")\n",
    "    if ((scorePython == \"bic\") | (scorePython == \"k2\") | (scorePython == \"bdeu\")):\n",
    "        print(\"Parámetros del modelo OK\")\n",
    "    else:\n",
    "        sys.exit(\"Parámetros del modelo incorrectos, corrija el problema y vuelva a ejecutar\")"
   ]
  },
  {
   "cell_type": "markdown",
   "id": "a689b695",
   "metadata": {},
   "source": [
    "### Abriendo el conjunto de datos desde un archivo CSV y asignandolo al objeto DataFrame \"df\""
   ]
  },
  {
   "cell_type": "code",
   "execution_count": null,
   "id": "61b5d1b2",
   "metadata": {},
   "outputs": [],
   "source": [
    "df = pd.read_csv('dataset_a.csv', sep=';', error_bad_lines=False)"
   ]
  },
  {
   "cell_type": "markdown",
   "id": "1265c04a",
   "metadata": {},
   "source": [
    "## Transformación de variables cualitativas a continuas"
   ]
  },
  {
   "cell_type": "markdown",
   "id": "bfcfc7f0",
   "metadata": {},
   "source": [
    "### Etapas de la transformación"
   ]
  },
  {
   "cell_type": "markdown",
   "id": "22017578",
   "metadata": {},
   "source": [
    "1. Se realiza la normalización de la variable \"programa\", que corresponde a una variable del tipo cualitativa/nominal.  También, se realiza la normalización de la variables \"estado\", que corresponde a una variable del tipo cualitativa/binaria.\n",
    "\n",
    "2. Se realiza el reemplazo de los datos de las variables \"programa\" y \"estado\", utilizando la nornalización obtenida en la etapa anterior.  Con este reemplazo de datos las variables pasan a ser cuantitativas/continuas\n",
    "\n",
    "3. Una vez que las variables mutaron, los datos quedan como tipo Object, por lo tanto se realiza un cast a int32 para ser usados."
   ]
  },
  {
   "cell_type": "code",
   "execution_count": null,
   "id": "4ec53405",
   "metadata": {},
   "outputs": [],
   "source": [
    "#Etapa 1\n",
    "normalizePrograma = df['programa'].value_counts(normalize=True, ascending=True)*100\n",
    "if outInfo == True: \n",
    "    print('Pre-Normalización de variable \"programa\"')\n",
    "    print('=======================================')\n",
    "    print(normalizePrograma)\n",
    "    print('\\n')\n",
    "\n",
    "normalizeEstado = df['estado'].value_counts(normalize=True, ascending=False)*100\n",
    "if outInfo == True: \n",
    "    print('Pre-Normalización de variable \"estado\"')\n",
    "    print('=====================================')\n",
    "    print(normalizeEstado)\n",
    "    print('\\n')\n",
    "\n",
    "#Etapa 2\n",
    "for i in range(len(normalizePrograma)):\n",
    "    df[\"programa\"] = df[\"programa\"].str.replace(normalizePrograma.index[i], str(i+1))\n",
    "\n",
    "for i in range(len(normalizeEstado)):\n",
    "    df[\"estado\"] = df[\"estado\"].str.replace(normalizeEstado.index[i], str(i))    \n",
    "\n",
    "#Etapa 3\n",
    "df['programa'] = df['programa'].astype('int')\n",
    "df['estado'] = df['estado'].astype('int')\n",
    "\n",
    "#Verificando que la transformación no haya afectado la normalización original\n",
    "if outInfo == True:\n",
    "    normalizePrograma = df['programa'].value_counts(normalize=True, ascending=True)*100\n",
    "    print('Post-Normalización de variable \"programa\"')\n",
    "    print('========================================')\n",
    "    print(normalizePrograma)\n",
    "    print('\\n')\n",
    "\n",
    "    normalizeEstado = df['estado'].value_counts(normalize=True, ascending=False)*100\n",
    "    print('Post-Normalización de variable \"estado\"')\n",
    "    print('======================================')\n",
    "    print(normalizeEstado)"
   ]
  },
  {
   "cell_type": "markdown",
   "id": "e8d6b812",
   "metadata": {},
   "source": [
    "## Limpieza de variables"
   ]
  },
  {
   "cell_type": "markdown",
   "id": "2305b51a",
   "metadata": {},
   "source": [
    "Se limpia el dataframe dejando solo las variables relevantes que, dado un estudio previo de la información, se determinó que eran relevantes y entregan un aporte real al modelo."
   ]
  },
  {
   "cell_type": "code",
   "execution_count": null,
   "id": "698f8b56",
   "metadata": {},
   "outputs": [],
   "source": [
    "df = df.loc[:, ['lt', 'tt', 'pt', 'game_score', \n",
    "                'op1','op2', 'op3', 'op4', 'op5', 'op6',\n",
    "                'sv1','sv2','sv3','sv4','sv5','sv6',\n",
    "                'score', 'score_a', 'score_p', 'score_d', 'score_s',\n",
    "                'programa', 'sol1', 'estado']]\n",
    "\n",
    "if outInfo == True: print(df.columns)"
   ]
  },
  {
   "cell_type": "markdown",
   "id": "da6f041b",
   "metadata": {},
   "source": [
    "## Discretizando variables cualitativas"
   ]
  },
  {
   "cell_type": "markdown",
   "id": "9f7b597b",
   "metadata": {},
   "source": [
    "Proporciona una forma de dividir características continuas en valores discretos.  La estrategia utilizada (\"kmeans\") \n",
    "permite elegir los \"centroides\" por cada \"bins\" establecido asignando cada muestra a su centroide más cercano, repitiendo el proceso hasta llegar a un umbral, es decir, se repite hasta que los centroides no se mueven significativamente.\n",
    "\n",
    "En esta etapa se discretizaron las variables \"lt\", \"tt\", \"pt\", \"game_score\", \"sol1\".\n",
    "Los \"bins\" fueron calculados a partir del metodo \"bayesian_blocks\" de la librería \"astropy\" que calcula la segmentación óptima de datos con los bloques bayesianos descritos por Scargle (2012).\n",
    "\n",
    "K-means: https://scikit-learn.org/stable/modules/clustering.html#k-means\n",
    "\n",
    "bloques bayesianos: https://ui.adsabs.harvard.edu/abs/2013ApJ...764..167S/abstract"
   ]
  },
  {
   "cell_type": "code",
   "execution_count": null,
   "id": "fb32a6b8",
   "metadata": {},
   "outputs": [],
   "source": [
    "if outInfo == True: \n",
    "    print('Pre-Discretización de variables')\n",
    "    print('===============================')\n",
    "    print(df.loc[:, ['lt', 'tt', 'pt', 'game_score', 'sol1']])\n",
    "    print(\"\\n\")\n",
    "\n",
    "# Obteniendo un \"bins\" optimo\n",
    "bins = blU.bayesBlock(df[\"lt\"])\n",
    "if outInfo == True:    \n",
    "    print(\"variable lt\")\n",
    "    print(\"===========\")\n",
    "    print(\"min : \"+str(df[\"lt\"].min()))\n",
    "    print(\"max : \"+str(df[\"lt\"].max()))\n",
    "    print(\"sum : \"+str(df[\"lt\"].sum()))\n",
    "    print(\"bins: \"+str(bins))\n",
    "    print(\"\\n\")\n",
    "valorDiscreto = KBinsDiscretizer(n_bins=bins, encode='ordinal', strategy = \"kmeans\").fit_transform(df[['lt']])\n",
    "df[['lt']] = valorDiscreto\n",
    "\n",
    "# Obteniendo un \"bins\" optimo\n",
    "bins = blU.bayesBlock(df[\"tt\"])\n",
    "if outInfo == True: \n",
    "    print(\"variable tt\")\n",
    "    print(\"===========\")\n",
    "    print(\"min : \"+str(df[\"tt\"].min()))\n",
    "    print(\"max : \"+str(df[\"tt\"].max()))\n",
    "    print(\"sum : \"+str(df[\"tt\"].sum()))\n",
    "    print(\"bins: \"+str(bins))\n",
    "    print(\"\\n\")\n",
    "valorDiscreto = KBinsDiscretizer(n_bins=bins, encode='ordinal', strategy = \"kmeans\").fit_transform(df[['tt']])\n",
    "df[['tt']] = valorDiscreto\n",
    "\n",
    "# Obteniendo un \"bins\" optimo\n",
    "bins = blU.bayesBlock(df[\"pt\"])\n",
    "if outInfo == True: \n",
    "    print(\"variable pt\")\n",
    "    print(\"===========\")\n",
    "    print(\"min : \"+str(df[\"pt\"].min()))\n",
    "    print(\"max : \"+str(df[\"pt\"].max()))\n",
    "    print(\"sum : \"+str(df[\"pt\"].sum()))\n",
    "    print(\"bins: \"+str(bins))\n",
    "    print(\"\\n\")\n",
    "valorDiscreto =  KBinsDiscretizer(n_bins=bins, encode='ordinal', strategy = \"kmeans\").fit_transform(df[['pt']])\n",
    "df[['pt']] = valorDiscreto\n",
    "\n",
    "# Obteniendo un \"bins\" optimo\n",
    "bins = blU.bayesBlock(df[\"game_score\"])\n",
    "if outInfo == True: \n",
    "    print(\"variable game_score\")\n",
    "    print(\"===========\")\n",
    "    print(\"min : \"+str(df[\"game_score\"].min()))\n",
    "    print(\"max : \"+str(df[\"game_score\"].max()))\n",
    "    print(\"sum : \"+str(df[\"game_score\"].sum()))\n",
    "    print(\"bins: \"+str(bins))\n",
    "    print(\"\\n\")\n",
    "valorDiscreto =  KBinsDiscretizer(n_bins=bins, encode='ordinal', strategy = \"kmeans\").fit_transform(df[['game_score']])\n",
    "df[['game_score']] = valorDiscreto\n",
    "\n",
    "# Obteniendo un \"bins\" optimo\n",
    "bins = blU.bayesBlock(df[\"sol1\"])\n",
    "if outInfo == True: \n",
    "    print(\"variable sol1\")\n",
    "    print(\"===========\")\n",
    "    print(\"min : \"+str(df[\"sol1\"].min()))\n",
    "    print(\"max : \"+str(df[\"sol1\"].max()))\n",
    "    print(\"sum : \"+str(df[\"sol1\"].sum()))\n",
    "    print(\"bins: \"+str(bins))\n",
    "    print(\"\\n\")\n",
    "valorDiscreto =  KBinsDiscretizer(n_bins=bins, encode='ordinal', strategy = \"kmeans\").fit_transform(df[['sol1']])\n",
    "df[['sol1']] = valorDiscreto\n",
    "\n",
    "if outInfo == True: \n",
    "    print('Post-Discretización de variables')\n",
    "    print('===============================')\n",
    "    print(df.loc[:, ['lt', 'tt', 'pt', 'game_score', 'sol1']])"
   ]
  },
  {
   "cell_type": "markdown",
   "id": "ed88b0eb-6a72-4b2f-b220-7d8d8cdda3cd",
   "metadata": {},
   "source": [
    "## Ejecución de modelos de red bayesiana"
   ]
  },
  {
   "cell_type": "markdown",
   "id": "73be4d42",
   "metadata": {},
   "source": [
    "Ejecución de modelos de red bayesiana que permiten obtener la causalidad Bayesiana por medio de la libreria \"bnlearn\", tanto de Python como de R"
   ]
  },
  {
   "cell_type": "code",
   "execution_count": null,
   "id": "13522e79",
   "metadata": {
    "tags": []
   },
   "outputs": [],
   "source": [
    "if flagModelo == 0:\n",
    "    modelos.modeloPython (df, varClase, 5, scorePython, balanceado, seleccionVariables)\n",
    "    \n",
    "if flagModelo == 1:   \n",
    "    modelos.modeloR(df, varClase, 5, discreta, scoreR, balanceado, seleccionVariables)"
   ]
  },
  {
   "cell_type": "code",
   "execution_count": null,
   "id": "40e2f346",
   "metadata": {},
   "outputs": [],
   "source": []
  }
 ],
 "metadata": {
  "kernelspec": {
   "display_name": "Python 3",
   "language": "python",
   "name": "python3"
  },
  "language_info": {
   "codemirror_mode": {
    "name": "ipython",
    "version": 3
   },
   "file_extension": ".py",
   "mimetype": "text/x-python",
   "name": "python",
   "nbconvert_exporter": "python",
   "pygments_lexer": "ipython3",
   "version": "3.9.2"
  }
 },
 "nbformat": 4,
 "nbformat_minor": 5
}
