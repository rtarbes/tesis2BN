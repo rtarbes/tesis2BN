{
 "cells": [
  {
   "cell_type": "code",
   "execution_count": 1,
   "id": "946ce13c",
   "metadata": {},
   "outputs": [],
   "source": [
    "import pandas as pd\n",
    "import imblearn\n",
    "import seaborn as sns\n",
    "import BayesLib as bl\n",
    "\n",
    "from sklearn.datasets import make_classification\n",
    "from sklearn.preprocessing import KBinsDiscretizer\n",
    "from sklearn.model_selection import StratifiedKFold\n",
    "from sklearn.metrics import *\n",
    "from sklearn.feature_selection import SelectKBest, f_classif, chi2\n",
    "\n",
    "from collections import Counter\n",
    "from numpy import where\n",
    "from matplotlib import pyplot\n",
    "from imblearn.over_sampling import SMOTE\n",
    "#from imblearn.over_sampling import SMOTENC\n",
    "#from imblearn.over_sampling import BorderlineSMOTE \n",
    "#from imblearn.over_sampling import SVMSMOTE\n",
    "#from imblearn.over_sampling import ADASYN \n",
    "from imblearn.under_sampling import RandomUnderSampler\n",
    "from imblearn.pipeline import Pipeline"
   ]
  },
  {
   "cell_type": "code",
   "execution_count": 2,
   "id": "a2fb88c8",
   "metadata": {},
   "outputs": [],
   "source": [
    "#abriendo el conjunto de datos desde un archivo CSV y asignandolo los datos al DataFrame \"df\"\n",
    "df = pd.read_csv('dataset_a.csv', sep=';', error_bad_lines=False)"
   ]
  },
  {
   "cell_type": "code",
   "execution_count": 3,
   "id": "ea00ec08",
   "metadata": {},
   "outputs": [],
   "source": [
    "%%capture\n",
    "#Eliminando variables que no aportan al análisis\n",
    "df = df.drop([\n",
    "    'rut', 'usuario', 'correo', 'nombre', 'profesor', \n",
    "    'i1', 'f1', 's1', \n",
    "    'i2', 'f2', 's2',\n",
    "    'i3', 'f3', 's3', \n",
    "    'i4', 'f4', 's4', \n",
    "    'i5', 'f5', 's5', \n",
    "    'i6', 'f6', 's6',\n",
    "    'sol1', 'sol2', 'sol3', 'sol4',\n",
    "    'tarea1', 'tarea2',\n",
    "    'controles', 'np', 'examen'], axis=1)"
   ]
  },
  {
   "cell_type": "code",
   "execution_count": 4,
   "id": "6900d43f",
   "metadata": {},
   "outputs": [
    {
     "name": "stdout",
     "output_type": "stream",
     "text": [
      "BACHILLERATO EN CIENCIAS                    0.428266\n",
      "INGENIERIA INDUSTRIAL                       6.638116\n",
      "INGENIERIA CIVIL INFORMATICA               23.340471\n",
      "INGENIERIA EN COMPUTACION E INFORMATICA    29.336188\n",
      "INGENIERIA CIVIL INDUSTRIAL                40.256959\n",
      "Name: programa, dtype: float64\n",
      "1     0.428266\n",
      "2     6.638116\n",
      "3    23.340471\n",
      "4    29.336188\n",
      "5    40.256959\n",
      "Name: programa, dtype: float64\n"
     ]
    }
   ],
   "source": [
    "#Estadísticas de la variable \"programa\"\n",
    "serie = df['programa'].value_counts(normalize=True, ascending=True)*100\n",
    "print(serie)\n",
    "\n",
    "#Transformación numérica de la variable \"programa\"\n",
    "for i in range(len(serie)):\n",
    "    df[\"programa\"] = df[\"programa\"].str.replace(serie.index[i], str(i+1))\n",
    "  \n",
    "serie = df['programa'].value_counts(normalize=True, ascending=True)*100\n",
    "print(serie)\n",
    "\n",
    "df['programa'] = df['programa'].astype('int')"
   ]
  },
  {
   "cell_type": "code",
   "execution_count": 5,
   "id": "c39cb42f",
   "metadata": {},
   "outputs": [
    {
     "name": "stdout",
     "output_type": "stream",
     "text": [
      "A    89.507495\n",
      "R    10.492505\n",
      "Name: estado, dtype: float64\n",
      "0    89.507495\n",
      "1    10.492505\n",
      "Name: estado, dtype: float64\n"
     ]
    }
   ],
   "source": [
    "#Estadísticas de la variable \"estado\"\n",
    "serie = df['estado'].value_counts(normalize=True, ascending=False)*100\n",
    "print(serie)\n",
    "\n",
    "#Transformacíon numérica de la variable \"estado\"\n",
    "for i in range(len(serie)):\n",
    "    df[\"estado\"] = df[\"estado\"].str.replace(serie.index[i], str(i))\n",
    "\n",
    "serie = df['estado'].value_counts(normalize=True, ascending=False)*100\n",
    "print(serie)\n",
    "\n",
    "df['estado'] = df['estado'].astype('int')"
   ]
  },
  {
   "cell_type": "code",
   "execution_count": 6,
   "id": "97d1cc89",
   "metadata": {},
   "outputs": [],
   "source": [
    "df = df.loc[:, ['lt', 'tt', 'pt', 'game_score', \n",
    "                'op1','op2', 'op3', 'op4', 'op5', 'op6',\n",
    "                'sv1','sv2','sv3','sv4','sv5','sv6',\n",
    "                'score', 'score_a', 'score_p', 'score_d', 'score_s',\n",
    "                'programa', 'final', 'estado']]"
   ]
  },
  {
   "cell_type": "code",
   "execution_count": 7,
   "id": "77812524",
   "metadata": {},
   "outputs": [],
   "source": [
    "binsNotas = 7\n",
    "binsOtros = 5\n",
    "\n",
    "valor_discreto = KBinsDiscretizer(n_bins=binsOtros, encode='ordinal', strategy = \"kmeans\").fit_transform(df[['lt']])\n",
    "df[['lt']] = valor_discreto\n",
    "\n",
    "valor_discreto = KBinsDiscretizer(n_bins=binsOtros, encode='ordinal', strategy = \"kmeans\").fit_transform(df[['tt']])\n",
    "df[['tt']] = valor_discreto\n",
    "\n",
    "puntaje_juego =  KBinsDiscretizer(n_bins=binsOtros, encode='ordinal', strategy = \"kmeans\").fit_transform(df[['pt']])\n",
    "df[['pt']] = valor_discreto\n",
    "\n",
    "puntaje_juego =  KBinsDiscretizer(n_bins=binsOtros, encode='ordinal', strategy = \"kmeans\").fit_transform(df[['game_score']])\n",
    "df[['game_score']] = valor_discreto\n",
    "\n",
    "nota_final =  KBinsDiscretizer(n_bins=binsNotas, encode='ordinal', strategy = \"kmeans\").fit_transform(df[['final']])\n",
    "df[['final']] = valor_discreto"
   ]
  },
  {
   "cell_type": "code",
   "execution_count": null,
   "id": "dcbd970d",
   "metadata": {
    "scrolled": false
   },
   "outputs": [
    {
     "name": "stdout",
     "output_type": "stream",
     "text": [
      "INICIO DE SECCION DE ENTRENAMIENTO, FOLD:  1\n",
      "[bnlearn] >Computing best DAG using [hc]\n",
      "[bnlearn] >Set scoring type at [bic]\n",
      "[bnlearn] >Plot based on BayesianModel\n"
     ]
    },
    {
     "data": {
      "image/png": "[encoded data removed]",
      "text/plain": [
       "<Figure size 1080x576 with 1 Axes>"
      ]
     },
     "metadata": {},
     "output_type": "display_data"
    },
    {
     "name": "stdout",
     "output_type": "stream",
     "text": [
      "[BNLEARN][PARAMETER LEARNING] Computing parameters using [bayes]\n",
      "[bnlearn] >Conversion of adjmat to BayesianModel.\n",
      "CPD of op5:\n",
      "+--------+----------+\n",
      "| op5(0) | 0.525127 |\n",
      "+--------+----------+\n",
      "| op5(1) | 0.474873 |\n",
      "+--------+----------+\n",
      "CPD of op6:\n",
      "+--------+--------------------+--------------------+--------------------+---------------------+\n",
      "| estado | estado(0)          | estado(0)          | estado(1)          | estado(1)           |\n",
      "+--------+--------------------+--------------------+--------------------+---------------------+\n",
      "| op5    | op5(0)             | op5(1)             | op5(0)             | op5(1)              |\n",
      "+--------+--------------------+--------------------+--------------------+---------------------+\n",
      "| op6(0) | 0.5358744394618834 | 0.4639175257731959 | 0.5272727272727272 | 0.48863636363636365 |\n",
      "+--------+--------------------+--------------------+--------------------+---------------------+\n",
      "| op6(1) | 0.4641255605381166 | 0.5360824742268041 | 0.4727272727272727 | 0.5113636363636364  |\n",
      "+--------+--------------------+--------------------+--------------------+---------------------+\n",
      "CPD of estado:\n",
      "+-----------+----------+\n",
      "| estado(0) | 0.607429 |\n",
      "+-----------+----------+\n",
      "| estado(1) | 0.392571 |\n",
      "+-----------+----------+\n",
      "CPD of programa:\n",
      "+-------------+---------------------+---------------------+\n",
      "| estado      | estado(0)           | estado(1)           |\n",
      "+-------------+---------------------+---------------------+\n",
      "| programa(1) | 0.1223021582733813  | 0.18552875695732837 |\n",
      "+-------------+---------------------+---------------------+\n",
      "| programa(2) | 0.14388489208633093 | 0.19666048237476808 |\n",
      "+-------------+---------------------+---------------------+\n",
      "| programa(3) | 0.21342925659472423 | 0.20222634508348794 |\n",
      "+-------------+---------------------+---------------------+\n",
      "| programa(4) | 0.2314148681055156  | 0.21706864564007422 |\n",
      "+-------------+---------------------+---------------------+\n",
      "| programa(5) | 0.28896882494004794 | 0.19851576994434136 |\n",
      "+-------------+---------------------+---------------------+\n",
      "[bnlearn] >Plot based on BayesianModel\n"
     ]
    },
    {
     "data": {
      "image/png": "[encoded data removed]",
      "text/plain": [
       "<Figure size 1080x576 with 1 Axes>"
      ]
     },
     "metadata": {},
     "output_type": "display_data"
    },
    {
     "name": "stderr",
     "output_type": "stream",
     "text": [
      "Finding Elimination Order: : : 0it [00:00, ?it/s]\n",
      "0it [00:00, ?it/s]\u001b[A\n",
      "\n",
      "0it [00:00, ?it/s]\u001b[A\n",
      "Finding Elimination Order: : : 0it [00:00, ?it/s]\u001b[A\n",
      "\n",
      "0it [00:00, ?it/s]\u001b[A\u001b[A\n",
      "\n",
      "\n",
      "0it [00:00, ?it/s]\u001b[A\u001b[A\n",
      "\n",
      "Finding Elimination Order: : : 0it [00:00, ?it/s]\u001b[A\u001b[A\n",
      "\n",
      "\n",
      "0it [00:00, ?it/s]\u001b[A\u001b[A\u001b[A"
     ]
    },
    {
     "name": "stdout",
     "output_type": "stream",
     "text": [
      "COLUMNA ELIMINADA DE LA INFERENCIA:  score_a\n",
      "FILA N°: 0 -> P(\"Estado\" | [{\"op5\":1, \"op6\":1, \"programa\":4}]\n",
      "[bnlearn] >Variable Elimination..\n",
      "+-----------+---------------+\n",
      "| estado    |   phi(estado) |\n",
      "+===========+===============+\n",
      "| estado(0) |        0.6336 |\n",
      "+-----------+---------------+\n",
      "| estado(1) |        0.3664 |\n",
      "+-----------+---------------+\n",
      "FILA N°: 1 -> P(\"Estado\" | [{\"op5\":0, \"op6\":0, \"programa\":5}]\n",
      "[bnlearn] >Variable Elimination..\n",
      "+-----------+---------------+\n",
      "| estado    |   phi(estado) |\n",
      "+===========+===============+\n",
      "| estado(0) |        0.6960 |\n",
      "+-----------+---------------+\n",
      "| estado(1) |        0.3040 |\n",
      "+-----------+---------------+\n",
      "FILA N°: 2 -> P(\"Estado\" | [{\"op5\":0, \"op6\":1, \"programa\":2}]\n",
      "[bnlearn] >Variable Elimination..\n",
      "+-----------+---------------+\n",
      "| estado    |   phi(estado) |\n",
      "+===========+===============+\n",
      "| estado(0) |        0.5264 |\n",
      "+-----------+---------------+\n",
      "| estado(1) |        0.4736 |\n",
      "+-----------+---------------+\n",
      "FILA N°: 3 -> P(\"Estado\" | [{\"op5\":0, \"op6\":0, \"programa\":5}]\n",
      "[bnlearn] >Variable Elimination..\n"
     ]
    },
    {
     "name": "stderr",
     "output_type": "stream",
     "text": [
      "\n",
      "\n",
      "\n",
      "\n",
      "0it [00:00, ?it/s]\u001b[A\u001b[A\u001b[A\n",
      "\n",
      "\n",
      "Finding Elimination Order: : : 0it [00:00, ?it/s]\u001b[A\u001b[A\u001b[A\n",
      "\n",
      "\n",
      "\n",
      "0it [00:00, ?it/s]\u001b[A\u001b[A\u001b[A\u001b[A\n",
      "\n",
      "\n",
      "\n",
      "\n",
      "0it [00:00, ?it/s]\u001b[A\u001b[A\u001b[A\u001b[A\n",
      "\n",
      "\n",
      "\n",
      "Finding Elimination Order: : : 0it [00:00, ?it/s]"
     ]
    }
   ],
   "source": [
    "#indica cual va a ser el muestreo estratificado usando la clase \"estado\"\n",
    "#cada fold mantiene la proporcion orignal de clases\n",
    "#n_splits = el numero de experimentos a realizar\n",
    "skf = StratifiedKFold(n_splits=5, shuffle=True, random_state=1) \n",
    "target = df.loc[:, 'estado'] #todas las filas de la columna \"estado\"\n",
    "\n",
    "fold_no = 1\n",
    "for train_index, test_index in skf.split(df, target):\n",
    "    #---------------------------------------------------------------------------\n",
    "    #INICIO: SECCION DE ENTRENAMIENTO\n",
    "    #---------------------------------------------------------------------------\n",
    "    print(\"INICIO DE SECCION DE ENTRENAMIENTO, FOLD: \", str(fold_no))\n",
    "    \n",
    "    #entrega la porción de datos que serán usados como entrenamiento\n",
    "    train = df.loc[train_index,:] #todas las columnas de la fila \"train_index\"\n",
    "   \n",
    "    oversample = SMOTE()\n",
    "    X_trainOversample, y_trainOversample = oversample.fit_resample(train, train.loc[:, 'estado'])\n",
    "    \n",
    "    #Aplicando selección de variables univariate\n",
    "    X_univariate = SelectKBest(f_classif, k=5).fit(X_trainOversample, y_trainOversample)\n",
    "    \n",
    "    selectK_mask = X_univariate.get_support()\n",
    "    X_reduced = train[train.columns[selectK_mask]]\n",
    "    X_reduced.head()\n",
    "    \n",
    "       \n",
    "    #aprendiendo la estructura y los parametros de la porción de datos entrenados \"sobre muestrados\"\n",
    "    #modelo = bl.Aprendizaje(X_trainOversample)\n",
    "    modelo = bl.Aprendizaje(X_reduced)\n",
    "    \n",
    "    #transformando el modelo aprendido en un dataset que pueda ser inferido\n",
    "    #newModel = bl.modelToDataFrame(modelo, X_trainOversample)\n",
    "    newModel = bl.modelToDataFrame(modelo, X_reduced)\n",
    "\n",
    "    #realizando la inferencia de los datos de entrenamiento\n",
    "    probTrain = bl.probabilidadConjunta(modelo, newModel)\n",
    "            \n",
    "    i = 0 #columna que queremos obtener\n",
    "    lista_train = [fila[i] for fila in probTrain]\n",
    "    print(lista_train)\n",
    "\n",
    "    print('RESULTADOS DEL ENTRENAMIENTO CON SOBREMUESTREO:')\n",
    "    print('===============================================')\n",
    "    print('(TRAIN) Fold', str(fold_no), 'Precisión            :', accuracy_score(lista_train, y))  \n",
    "    print('(TRAIN) Fold', str(fold_no), 'Precisión balanceada :', balanced_accuracy_score(lista_train, y))  \n",
    "    print('(TRAIN) Fold', str(fold_no), 'Class Ratio          :', sum(y)/len(y))\n",
    "    \n",
    "    print(\"FIN DE SECCION DE ENTRENAMIENTO, FOLD: \", str(fold_no))\n",
    "    #---------------------------------------------------------------------------\n",
    "    #FIN: SECCION DE ENTRENAMIENTO\n",
    "    #---------------------------------------------------------------------------\n",
    "\n",
    "    #---------------------------------------------------------------------------\n",
    "    #INICIO: SECCION DE PRUEBAS\n",
    "    #---------------------------------------------------------------------------\n",
    "    print(\"INICIO DE SECCION DE PRUEBAS, FOLD: \", str(fold_no))\n",
    "    \n",
    "    #entrega la porción de datos que serán usados como pruebas\n",
    "    test = df.loc[test_index,:] #todas las columnas de la fila \"test_index\"\n",
    "        \n",
    "    #aprendiendo la estructura y los parametros de la porción de datos de pruebas\n",
    "    modelo = bl.Aprendizaje(test)\n",
    "\n",
    "    #transformando el modelo aprendido en un dataset que pueda ser inferido\n",
    "    newModel = bl.modelToDataFrame(modelo, test)\n",
    "    \n",
    "    #realizando la inferencia de los datos de prueba\n",
    "    probTest = bl.probabilidadConjunta(modelo, newModel)\n",
    "    \n",
    "    ##i = 0 #columna que queremos obtener\n",
    "    lista_test = [fila[i] for fila in probTest]\n",
    "    \n",
    "    print('RESULTADOS DEL TEST:')\n",
    "    print('===============================================')\n",
    "    print('(TEST) Fold', str(fold_no), 'Precisión            :', accuracy_score(lista_test, test.loc[:, 'estado']))  \n",
    "    print('(TEST) Fold', str(fold_no), 'Precisión balanceada :', balanced_accuracy_score(lista_test, test.loc[:, 'estado']))  \n",
    "    print('(TEST) Fold', str(fold_no), 'Class Ratio          :', sum(test['estado'])/len(test['estado']))\n",
    "\n",
    "    print(\"FIN DE SECCION DE PRUEBAS, FOLD: \", str(fold_no))\n",
    "    #---------------------------------------------------------------------------\n",
    "    #FIN: SECCION DE PRUEBAS\n",
    "    #---------------------------------------------------------------------------\n",
    "\n",
    "    #Cambiando de fold\n",
    "    break\n",
    "    #fold_no += 1"
   ]
  },
  {
   "cell_type": "code",
   "execution_count": null,
   "id": "e78bf84a",
   "metadata": {},
   "outputs": [],
   "source": []
  }
 ],
 "metadata": {
  "kernelspec": {
   "display_name": "Python 3",
   "language": "python",
   "name": "python3"
  },
  "language_info": {
   "codemirror_mode": {
    "name": "ipython",
    "version": 3
   },
   "file_extension": ".py",
   "mimetype": "text/x-python",
   "name": "python",
   "nbconvert_exporter": "python",
   "pygments_lexer": "ipython3",
   "version": "3.9.2"
  }
 },
 "nbformat": 4,
 "nbformat_minor": 5
}
