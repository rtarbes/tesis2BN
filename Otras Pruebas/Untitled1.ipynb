{
 "cells": [
  {
   "cell_type": "code",
   "execution_count": 1,
   "id": "dd11e9a1",
   "metadata": {},
   "outputs": [],
   "source": [
    "# Importamos pandas y numpy para manejar los datos que pasaremos a R\n",
    "import os\n",
    "os.environ['R_HOME'] = r'C:\\Users\\jtarb\\anaconda3\\envs\\rBNLEARN\\Lib\\R'\n",
    "os.environ['R_PATH'] = r'C:\\Users\\jtarb\\anaconda3\\envs\\rBNLEARN\\Lib\\R\\bin\\x64'\n",
    "\n",
    "import pandas as pd\n",
    "import numpy as np\n",
    " \n",
    "# Usamos rpy2 para interactuar con R\n",
    "import rpy2.robjects as ro\n",
    " \n",
    "# Activamos la conversión automática de tipos de rpy2\n",
    "import rpy2.robjects.numpy2ri\n",
    "rpy2.robjects.numpy2ri.activate()\n",
    " \n",
    "import matplotlib.pyplot as plt\n",
    "%matplotlib inline"
   ]
  },
  {
   "cell_type": "code",
   "execution_count": 2,
   "id": "2d9b2189",
   "metadata": {},
   "outputs": [
    {
     "data": {
      "text/plain": [
       "<rpy2.robjects.functions.SignatureTranslatedFunction object at 0x00000182B8FD3FC0> [RTYPES.CLOSXP]\n",
       "R classes: ('function',)"
      ]
     },
     "execution_count": 2,
     "metadata": {},
     "output_type": "execute_result"
    }
   ],
   "source": [
    "codigo_r = \"\"\"\n",
    "saluda <- function(cadena) {\n",
    "  return(paste(\"Hola, \", cadena))\n",
    "}\n",
    "\"\"\"\n",
    "ro.r(codigo_r)"
   ]
  },
  {
   "cell_type": "code",
   "execution_count": null,
   "id": "73e8a159",
   "metadata": {},
   "outputs": [],
   "source": []
  }
 ],
 "metadata": {
  "kernelspec": {
   "display_name": "Python 3",
   "language": "python",
   "name": "python3"
  },
  "language_info": {
   "codemirror_mode": {
    "name": "ipython",
    "version": 3
   },
   "file_extension": ".py",
   "mimetype": "text/x-python",
   "name": "python",
   "nbconvert_exporter": "python",
   "pygments_lexer": "ipython3",
   "version": "3.9.2"
  }
 },
 "nbformat": 4,
 "nbformat_minor": 5
}
