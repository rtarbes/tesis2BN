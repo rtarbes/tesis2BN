{
 "cells": [
  {
   "cell_type": "code",
   "execution_count": 1,
   "id": "fd56ccf4",
   "metadata": {},
   "outputs": [
    {
     "data": {
      "text/html": [
       "'4.0.5'"
      ],
      "text/latex": [
       "'4.0.5'"
      ],
      "text/markdown": [
       "'4.0.5'"
      ],
      "text/plain": [
       "[1] \"4.0.5\""
      ]
     },
     "metadata": {},
     "output_type": "display_data"
    }
   ],
   "source": [
    "strsplit(version[['version.string']], ' ')[[1]][3]"
   ]
  },
  {
   "cell_type": "code",
   "execution_count": null,
   "id": "6aa76e90",
   "metadata": {},
   "outputs": [],
   "source": []
  }
 ],
 "metadata": {
  "kernelspec": {
   "display_name": "R",
   "language": "R",
   "name": "ir"
  },
  "language_info": {
   "codemirror_mode": "r",
   "file_extension": ".r",
   "mimetype": "text/x-r-source",
   "name": "R",
   "pygments_lexer": "r",
   "version": "4.0.5"
  }
 },
 "nbformat": 4,
 "nbformat_minor": 5
}
