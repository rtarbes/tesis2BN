{
 "cells": [
  {
   "cell_type": "code",
   "execution_count": 1,
   "id": "9a150ce1",
   "metadata": {},
   "outputs": [],
   "source": [
    "import pandas as pd\n",
    "import imblearn\n",
    "import seaborn as sns\n",
    "import BayesLib as bl\n",
    "import os\n",
    "\n",
    "from sklearn.datasets import make_classification\n",
    "from sklearn.preprocessing import KBinsDiscretizer\n",
    "from sklearn.model_selection import StratifiedKFold\n",
    "from sklearn.metrics import *\n",
    "from sklearn.feature_selection import SelectKBest, f_classif, chi2\n",
    "\n",
    "from collections import Counter\n",
    "from numpy import where\n",
    "from matplotlib import pyplot\n",
    "from imblearn.over_sampling import SMOTE\n",
    "#from imblearn.over_sampling import SMOTENC\n",
    "#from imblearn.over_sampling import BorderlineSMOTE \n",
    "#from imblearn.over_sampling import SVMSMOTE\n",
    "#from imblearn.over_sampling import ADASYN \n",
    "from imblearn.under_sampling import RandomUnderSampler\n",
    "from imblearn.pipeline import Pipeline"
   ]
  },
  {
   "cell_type": "code",
   "execution_count": 2,
   "id": "b607bcf6",
   "metadata": {},
   "outputs": [],
   "source": [
    "#abriendo el conjunto de datos desde un archivo CSV y asignandolo los datos al DataFrame \"df\"\n",
    "df = pd.read_csv('dataset_b.csv', sep=';', error_bad_lines=False)"
   ]
  },
  {
   "cell_type": "code",
   "execution_count": 3,
   "id": "97308ef3",
   "metadata": {},
   "outputs": [],
   "source": [
    "%%capture\n",
    "#Eliminando variables que no aportan al análisis\n",
    "df = df.drop([\n",
    "    'rut', 'usuario', 'correo', 'nombre', 'profesor', \n",
    "    'i1', 'f1', 's1', \n",
    "    'i2', 'f2', 's2',\n",
    "    'i3', 'f3', 's3', \n",
    "    'i4', 'f4', 's4', \n",
    "    'i5', 'f5', 's5', \n",
    "    'i6', 'f6', 's6',\n",
    "    'sol1', 'sol2', 'sol3', 'sol4',\n",
    "    'tarea1', 'tarea2',\n",
    "    'controles', 'np', 'examen'], axis=1)"
   ]
  },
  {
   "cell_type": "code",
   "execution_count": 4,
   "id": "ecb6444e",
   "metadata": {},
   "outputs": [
    {
     "output_type": "stream",
     "name": "stdout",
     "text": [
      "INGENIERIA INDUSTRIAL                       8.080808\nINGENIERIA CIVIL INFORMATICA               14.141414\nINGENIERIA EN COMPUTACION E INFORMATICA    37.373737\nINGENIERIA CIVIL INDUSTRIAL                40.404040\nName: programa, dtype: float64\n1     8.080808\n2    14.141414\n3    37.373737\n4    40.404040\nName: programa, dtype: float64\n"
     ]
    }
   ],
   "source": [
    "#Estadísticas de la variable \"programa\"\n",
    "serie = df['programa'].value_counts(normalize=True, ascending=True)*100\n",
    "print(serie)\n",
    "\n",
    "#Transformación numérica de la variable \"programa\"\n",
    "for i in range(len(serie)):\n",
    "    df[\"programa\"] = df[\"programa\"].str.replace(serie.index[i], str(i+1))\n",
    "  \n",
    "serie = df['programa'].value_counts(normalize=True, ascending=True)*100\n",
    "print(serie)\n",
    "\n",
    "df['programa'] = df['programa'].astype('int')"
   ]
  },
  {
   "cell_type": "code",
   "execution_count": 5,
   "id": "43c1655d",
   "metadata": {},
   "outputs": [
    {
     "output_type": "stream",
     "name": "stdout",
     "text": [
      "A    75.757576\nR    24.242424\nName: estado, dtype: float64\n0    75.757576\n1    24.242424\nName: estado, dtype: float64\n"
     ]
    }
   ],
   "source": [
    "#Estadísticas de la variable \"estado\"\n",
    "serie = df['estado'].value_counts(normalize=True, ascending=False)*100\n",
    "print(serie)\n",
    "\n",
    "#Transformacíon numérica de la variable \"estado\"\n",
    "for i in range(len(serie)):\n",
    "    df[\"estado\"] = df[\"estado\"].str.replace(serie.index[i], str(i))\n",
    "\n",
    "serie = df['estado'].value_counts(normalize=True, ascending=False)*100\n",
    "print(serie)\n",
    "\n",
    "df['estado'] = df['estado'].astype('int')"
   ]
  },
  {
   "cell_type": "code",
   "execution_count": 6,
   "id": "db9eb2f8",
   "metadata": {},
   "outputs": [],
   "source": [
    "df = df.loc[:, ['lt', 'tt', 'pt', 'game_score', \n",
    "                'op1','op2', 'op3', 'op4', 'op5', 'op6',\n",
    "                'sv1','sv2','sv3','sv4','sv5','sv6',\n",
    "                'score', 'score_a', 'score_p', 'score_d', 'score_s',\n",
    "                'programa', 'final', 'estado']]"
   ]
  },
  {
   "cell_type": "code",
   "execution_count": 7,
   "id": "5af59c44",
   "metadata": {},
   "outputs": [],
   "source": [
    "binsNotas = 7\n",
    "binsOtros = 5\n",
    "\n",
    "valor_discreto = KBinsDiscretizer(n_bins=binsOtros, encode='ordinal', strategy = \"kmeans\").fit_transform(df[['lt']])\n",
    "df[['lt']] = valor_discreto\n",
    "\n",
    "valor_discreto = KBinsDiscretizer(n_bins=binsOtros, encode='ordinal', strategy = \"kmeans\").fit_transform(df[['tt']])\n",
    "df[['tt']] = valor_discreto\n",
    "\n",
    "puntaje_juego =  KBinsDiscretizer(n_bins=binsOtros, encode='ordinal', strategy = \"kmeans\").fit_transform(df[['pt']])\n",
    "df[['pt']] = valor_discreto\n",
    "\n",
    "puntaje_juego =  KBinsDiscretizer(n_bins=binsOtros, encode='ordinal', strategy = \"kmeans\").fit_transform(df[['game_score']])\n",
    "df[['game_score']] = valor_discreto\n",
    "\n",
    "nota_final =  KBinsDiscretizer(n_bins=binsNotas, encode='ordinal', strategy = \"kmeans\").fit_transform(df[['final']])\n",
    "df[['final']] = valor_discreto"
   ]
  },
  {
   "cell_type": "code",
   "execution_count": 8,
   "id": "e1a9cca4",
   "metadata": {
    "scrolled": true
   },
   "outputs": [
    {
     "output_type": "error",
     "ename": "SyntaxError",
     "evalue": "invalid syntax (<ipython-input-8-e3e9d54a0bb2>, line 24)",
     "traceback": [
      "\u001b[1;36m  File \u001b[1;32m\"<ipython-input-8-e3e9d54a0bb2>\"\u001b[1;36m, line \u001b[1;32m24\u001b[0m\n\u001b[1;33m    probTrain = bl.probabilidadConjunta(modelo, newModel, fold_no, , \"TRAIN\")\u001b[0m\n\u001b[1;37m                                                                   ^\u001b[0m\n\u001b[1;31mSyntaxError\u001b[0m\u001b[1;31m:\u001b[0m invalid syntax\n"
     ]
    }
   ],
   "source": [
    "#indica cual va a ser el muestreo estratificado usando la clase \"estado\"\n",
    "#cada fold mantiene la proporcion orignal de clases\n",
    "#n_splits = el numero de experimentos a realizar\n",
    "skf = StratifiedKFold(n_splits=5, shuffle=True, random_state=1) \n",
    "target = df.loc[:, 'estado'] #todas las filas de la columna \"estado\"\n",
    "\n",
    "fold_no = 1\n",
    "for train_index, test_index in skf.split(df, target):\n",
    "    #---------------------------------------------------------------------------\n",
    "    #INICIO: SECCION DE ENTRENAMIENTO\n",
    "    #---------------------------------------------------------------------------\n",
    "    print(\"INICIO DE SECCION DE ENTRENAMIENTO, FOLD: \", str(fold_no))\n",
    "    \n",
    "    #entrega la porción de datos que serán usados como entrenamiento\n",
    "    train = df.loc[train_index,:] #todas las columnas de la fila \"train_index\"\n",
    "         \n",
    "    #aprendiendo la estructura y los parametros de la porción de datos entrenados \"sobre muestrados\"\n",
    "    modelo = bl.Aprendizaje(train, fold_no, \"TRAIN\")\n",
    "    \n",
    "    #transformando el modelo aprendido en un dataset que pueda ser inferido\n",
    "    newModel = bl.modelToDataFrame(modelo, train)\n",
    "\n",
    "    #realizando la inferencia de los datos de entrenamiento\n",
    "    probTrain = bl.probabilidadConjunta(modelo, newModel, fold_no, \"TRAIN\")\n",
    "            \n",
    "    i = 0 #columna que queremos obtener\n",
    "    lista_train = [fila[i] for fila in probTrain]\n",
    "\n",
    "    #Metricas finales TRAIN\n",
    "    varAccuracy = accuracy_score(lista_train, train.loc[:, 'estado'])\n",
    "    varBalancedAccuracy = balanced_accuracy_score(lista_train, train.loc[:, 'estado'])\n",
    "    varPrecision = precision_score(lista_train, train.loc[:, 'estado'], average='weighted')\n",
    "    varRecall = recall_score(lista_train, train.loc[:, 'estado'], average='weighted')\n",
    "    varRocAuc = roc_auc_score(train.loc[:, 'estado'], lista_train, multi_class='ovr')\n",
    "    varRatio = sum(train['estado'])/len(train['estado'])\n",
    "    \n",
    "    print('RESULTADOS DEL ENTRENAMIENTO CON SOBREMUESTREO:')\n",
    "    print('===============================================')\n",
    "    print('(TRAIN) Fold', str(fold_no), 'Accuracy          :', str(varAccuracy))  \n",
    "    print('(TRAIN) Fold', str(fold_no), 'Balanced Accuracy :', str(varBalancedAccuracy))  \n",
    "    print('(TRAIN) Fold', str(fold_no), 'Precision Score   :', str(varPrecision))  \n",
    "    print('(TRAIN) Fold', str(fold_no), 'Recall Score      :', str(varRecall))  \n",
    "    print('(TRAIN) Fold', str(fold_no), 'ROC AUC           :', str(varRocAuc)) \n",
    "    print('(TRAIN) Fold', str(fold_no), 'Class Ratio       :', str(varRatio))\n",
    "    \n",
    "    #Guardando las metricas en un archivo\n",
    "    file = open('Metricas_'+str(fold_no)+'.txt', 'w')\n",
    "    file.write('RESULTADOS DEL ENTRENAMIENTO CON SOBREMUESTREO:' + os.linesep)\n",
    "    file.write('===============================================' + os.linesep)\n",
    "    file.write('(TRAIN) Fold', str(fold_no), 'Accuracy          :', str(varAccuracy) + os.linesep)  \n",
    "    file.write('(TRAIN) Fold', str(fold_no), 'Balanced Accuracy :', str(varBalancedAccuracy) + os.linesep)  \n",
    "    file.write('(TRAIN) Fold', str(fold_no), 'Precision Score   :', str(varPrecision) + os.linesep)  \n",
    "    file.write('(TRAIN) Fold', str(fold_no), 'Recall Score      :', str(varRecall) + os.linesep)  \n",
    "    file.write('(TRAIN) Fold', str(fold_no), 'ROC AUC           :', str(varRocAuc) + os.linesep) \n",
    "    file.write('(TRAIN) Fold', str(fold_no), 'Class Ratio       :', str(varRatio) + os.linesep)\n",
    "    file.close()\n",
    "    \n",
    "    \n",
    "    print(\"FIN DE SECCION DE ENTRENAMIENTO, FOLD: \", str(fold_no))\n",
    "    #---------------------------------------------------------------------------\n",
    "    #FIN: SECCION DE ENTRENAMIENTO\n",
    "    #---------------------------------------------------------------------------\n",
    "\n",
    "    #---------------------------------------------------------------------------\n",
    "    #INICIO: SECCION DE PRUEBAS\n",
    "    #---------------------------------------------------------------------------\n",
    "    print(\"INICIO DE SECCION DE PRUEBAS, FOLD: \", str(fold_no))\n",
    "    \n",
    "    #entrega la porción de datos que serán usados como pruebas\n",
    "    test = df.loc[test_index,:] #todas las columnas de la fila \"test_index\"\n",
    "        \n",
    "    #aprendiendo la estructura y los parametros de la porción de datos de pruebas\n",
    "    modelo = bl.Aprendizaje(test, fold_no, \"TEST\")\n",
    "\n",
    "    #transformando el modelo aprendido en un dataset que pueda ser inferido\n",
    "    newModel = bl.modelToDataFrame(modelo, test)\n",
    "    \n",
    "    #realizando la inferencia de los datos de prueba\n",
    "    probTest = bl.probabilidadConjunta(modelo, newModel, fold_no, \"TEST\")\n",
    "    \n",
    "    ##i = 0 #columna que queremos obtener\n",
    "    lista_test = [fila[i] for fila in probTest]\n",
    "    \n",
    "    #Metricas finales TEST\n",
    "    varAccuracy = accuracy_score(lista_test, test.loc[:, 'estado'])\n",
    "    varBalancedAccuracy = balanced_accuracy_score(lista_test, test.loc[:, 'estado'])\n",
    "    varPrecision = precision_score(lista_test, test.loc[:, 'estado'], average='weighted')\n",
    "    varRecall = recall_score(lista_test, test.loc[:, 'estado'], average='weighted')\n",
    "    varRocAuc = roc_auc_score(test.loc[:, 'estado'], lista_test, multi_class='ovr')\n",
    "    varRatio = sum(test['estado'])/len(test['estado'])\n",
    "\n",
    "    print('RESULTADOS DEL TEST:')\n",
    "    print('===============================================')\n",
    "    print('(TEST) Fold', str(fold_no), 'Accuracy          :', str(varAccuracy))  \n",
    "    print('(TEST) Fold', str(fold_no), 'Balanced Accuracy :', str(varBalancedAccuracy))  \n",
    "    print('(TEST) Fold', str(fold_no), 'Precision Score   :', str(varPrecision))  \n",
    "    print('(TEST) Fold', str(fold_no), 'Recall Score      :', str(varRecall))  \n",
    "    print('(TEST) Fold', str(fold_no), 'ROC AUC           :', str(varRocAuc)) \n",
    "    print('(TEST) Fold', str(fold_no), 'Class Ratio       :', str(varRatio))\n",
    "\n",
    "    #Guardando las metricas en un archivo\n",
    "    file = open('Metricas_'+str(fold_no)+'.txt', 'a')\n",
    "    file.write('RESULTADOS DEL TEST:' + os.linesep)\n",
    "    file.write('===============================================' + os.linesep)\n",
    "    file.write('(TEST) Fold', str(fold_no), 'Accuracy          :', str(varAccuracy) + os.linesep)  \n",
    "    file.write('(TEST) Fold', str(fold_no), 'Balanced Accuracy :', str(varBalancedAccuracy) + os.linesep)  \n",
    "    file.write('(TEST) Fold', str(fold_no), 'Precision Score   :', str(varPrecision) + os.linesep)  \n",
    "    file.write('(TEST) Fold', str(fold_no), 'Recall Score      :', str(varRecall) + os.linesep)  \n",
    "    file.write('(TEST) Fold', str(fold_no), 'ROC AUC           :', str(varRocAuc) + os.linesep) \n",
    "    file.write('(TEST) Fold', str(fold_no), 'Class Ratio       :', str(varRatio) + os.linesep)\n",
    "\n",
    "    print(\"FIN DE SECCION DE PRUEBAS, FOLD: \", str(fold_no))\n",
    "    #---------------------------------------------------------------------------\n",
    "    #FIN: SECCION DE PRUEBAS\n",
    "    #---------------------------------------------------------------------------\n",
    "\n",
    "    #Cambiando de fold\n",
    "    break\n",
    "    #fold_no += 1"
   ]
  },
  {
   "cell_type": "code",
   "execution_count": null,
   "id": "bb29f462",
   "metadata": {},
   "outputs": [],
   "source": []
  }
 ],
 "metadata": {
  "kernelspec": {
   "name": "python388jvsc74a57bd0569c79e91b8db0118a35d9c072dc5d8e5e3b169f732d4c39a834e370984b0d04",
   "display_name": "Python 3.9.2 64-bit"
  },
  "language_info": {
   "codemirror_mode": {
    "name": "ipython",
    "version": 3
   },
   "file_extension": ".py",
   "mimetype": "text/x-python",
   "name": "python",
   "nbconvert_exporter": "python",
   "pygments_lexer": "ipython3",
   "version": "3.8.8"
  }
 },
 "nbformat": 4,
 "nbformat_minor": 5
}